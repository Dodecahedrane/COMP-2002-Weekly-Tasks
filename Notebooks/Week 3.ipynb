{
 "cells": [
  {
   "cell_type": "markdown",
   "id": "0feded93",
   "metadata": {},
   "source": [
    "# COMP 2002 - Intro to AI\n",
    "## Week 3 - Neural Network Exercises"
   ]
  },
  {
   "cell_type": "markdown",
   "id": "baaed744",
   "metadata": {},
   "source": [
    "## Excercise 1 - Classify the Iris Data"
   ]
  },
  {
   "cell_type": "markdown",
   "id": "f088e405",
   "metadata": {},
   "source": [
    "Use MPLClassifier in SKLearn to classify the iris data and then generate a confusion matrix"
   ]
  },
  {
   "cell_type": "markdown",
   "id": "5a471037",
   "metadata": {},
   "source": [
    "### Load Required Libraries"
   ]
  },
  {
   "cell_type": "code",
   "execution_count": 42,
   "id": "a763089b",
   "metadata": {},
   "outputs": [],
   "source": [
    "import matplotlib.pyplot as plt\n",
    "from sklearn.decomposition import PCA\n",
    "from sklearn.datasets import load_iris\n",
    "from sklearn.preprocessing import StandardScaler\n",
    "from sklearn.neural_network import MLPRegressor\n",
    "from sklearn.metrics import confusion_matrix, ConfusionMatrixDisplay, mean_absolute_error"
   ]
  },
  {
   "cell_type": "markdown",
   "id": "cc219cb1",
   "metadata": {},
   "source": [
    "### Load the iris data "
   ]
  },
  {
   "cell_type": "code",
   "execution_count": 43,
   "id": "33456e84",
   "metadata": {},
   "outputs": [],
   "source": [
    "data = load_iris()\n",
    "inputs = data.data\n",
    "targets = data.target"
   ]
  },
  {
   "cell_type": "markdown",
   "id": "1a88e729",
   "metadata": {},
   "source": [
    "### Scale the data\n",
    "\n"
   ]
  },
  {
   "cell_type": "code",
   "execution_count": 44,
   "id": "734a31b9",
   "metadata": {},
   "outputs": [],
   "source": [
    "# define standard scaler\n",
    "scaler = StandardScaler()\n",
    "# transform data\n",
    "scaled = scaler.fit_transform(inputs)"
   ]
  },
  {
   "cell_type": "markdown",
   "id": "3a20f845",
   "metadata": {},
   "source": []
  },
  {
   "cell_type": "code",
   "execution_count": 88,
   "id": "155055d4",
   "metadata": {},
   "outputs": [
    {
     "name": "stdout",
     "output_type": "stream",
     "text": [
      "0.13139484668169044\n"
     ]
    },
    {
     "data": {
      "text/plain": [
       "array([-1.44896364e-02, -7.02301936e-03, -2.86524274e-02,  9.95467988e-03,\n",
       "       -8.32754924e-03,  1.49036103e-02,  4.99941628e-03, -2.57436216e-02,\n",
       "        4.50707480e-02, -2.91392940e-02,  6.42877189e-03, -2.10353310e-02,\n",
       "       -1.53414560e-02, -1.41744770e-02, -1.59007208e-02,  3.87210249e-02,\n",
       "       -3.80404450e-04,  2.47316923e-03,  1.06496019e-02,  2.36610491e-02,\n",
       "        4.85408400e-03,  4.19727297e-02, -2.57951303e-02,  4.11438758e-02,\n",
       "        3.11301647e-03,  5.13863310e-03,  2.57271633e-02, -7.09659390e-03,\n",
       "       -1.90197260e-02, -2.42456507e-03,  5.46169479e-03,  2.91224175e-02,\n",
       "       -4.31324891e-02, -3.67352990e-02, -1.28228668e-02, -5.68112374e-02,\n",
       "        1.76957744e-03, -2.83452146e-02,  2.06932229e-02, -2.36381367e-02,\n",
       "       -2.32057187e-03,  2.03989050e-01,  5.94788742e-03,  9.77069506e-02,\n",
       "        5.77296500e-02,  1.42812411e-02,  1.00188119e-02, -1.02602550e-02,\n",
       "        6.99697676e-03, -4.21318331e-02,  9.99600873e-01,  9.71259010e-01,\n",
       "        1.14671762e+00,  1.27407516e+00,  1.16546307e+00,  1.07682858e+00,\n",
       "        1.07296242e+00,  9.15489894e-01,  9.76813383e-01,  1.11681794e+00,\n",
       "        1.19672194e+00,  9.67049191e-01,  9.97028103e-01,  1.10479518e+00,\n",
       "        7.40315297e-01,  9.14108125e-01,  1.09262399e+00,  7.94021948e-01,\n",
       "        1.49223727e+00,  9.51974051e-01,  1.32181889e+00,  8.52160163e-01,\n",
       "        1.43812817e+00,  9.94930025e-01,  8.70929476e-01,  9.39760655e-01,\n",
       "        1.16791886e+00,  1.39713049e+00,  1.12866220e+00,  6.80472365e-01,\n",
       "        1.00380877e+00,  8.85799529e-01,  8.62982580e-01,  1.53888844e+00,\n",
       "        1.10718698e+00,  9.45553170e-01,  1.08145076e+00,  1.22107967e+00,\n",
       "        7.97843368e-01,  1.16065433e+00,  1.14282656e+00,  1.01499064e+00,\n",
       "        9.48172098e-01,  9.61039349e-01,  1.06066316e+00,  7.46830708e-01,\n",
       "        9.01251364e-01,  8.76182785e-01,  8.13496270e-01,  9.46549731e-01,\n",
       "        2.25653834e+00,  1.84385019e+00,  2.04350332e+00,  1.76404888e+00,\n",
       "        2.11769000e+00,  2.25003765e+00,  1.79841423e+00,  1.92763915e+00,\n",
       "        2.00118191e+00,  2.22887905e+00,  1.61366764e+00,  1.84342021e+00,\n",
       "        1.92211016e+00,  2.05701163e+00,  2.22812349e+00,  1.92449935e+00,\n",
       "        1.67038965e+00,  2.12384378e+00,  2.66020684e+00,  1.74124360e+00,\n",
       "        2.07443045e+00,  1.82087777e+00,  2.25593976e+00,  1.61360254e+00,\n",
       "        1.85804071e+00,  1.73263467e+00,  1.53558107e+00,  1.46272343e+00,\n",
       "        2.07036599e+00,  1.55697748e+00,  1.97436889e+00,  1.89692309e+00,\n",
       "        2.16338729e+00,  1.37022209e+00,  1.58976748e+00,  2.26852561e+00,\n",
       "        1.99084455e+00,  1.63030603e+00,  1.42954908e+00,  1.84428081e+00,\n",
       "        2.16376640e+00,  1.92292797e+00,  1.84385019e+00,  2.14218120e+00,\n",
       "        2.18111927e+00,  2.00199926e+00,  1.84381757e+00,  1.73313034e+00,\n",
       "        1.84140030e+00,  1.53450362e+00])"
      ]
     },
     "execution_count": 88,
     "metadata": {},
     "output_type": "execute_result"
    }
   ],
   "source": [
    "regressor = MLPRegressor(hidden_layer_sizes = 100, max_iter = 200, activation = 'relu')\n",
    "regressor.fit(scaled, targets)\n",
    "outputs = regressor.predict(scaled)\n",
    "print(mean_absolute_error(targets, outputs))\n",
    "outputs"
   ]
  },
  {
   "cell_type": "markdown",
   "id": "de09d434",
   "metadata": {},
   "source": []
  },
  {
   "cell_type": "code",
   "execution_count": 46,
   "id": "08e31e83",
   "metadata": {},
   "outputs": [
    {
     "ename": "ValueError",
     "evalue": "Classification metrics can't handle a mix of continuous and multiclass targets",
     "output_type": "error",
     "traceback": [
      "\u001b[0;31m---------------------------------------------------------------------------\u001b[0m",
      "\u001b[0;31mValueError\u001b[0m                                Traceback (most recent call last)",
      "Input \u001b[0;32mIn [46]\u001b[0m, in \u001b[0;36m<module>\u001b[0;34m\u001b[0m\n\u001b[0;32m----> 1\u001b[0m cm \u001b[38;5;241m=\u001b[39m \u001b[43mconfusion_matrix\u001b[49m\u001b[43m(\u001b[49m\u001b[43moutputs\u001b[49m\u001b[43m,\u001b[49m\u001b[43mtargets\u001b[49m\u001b[43m)\u001b[49m\n\u001b[1;32m      2\u001b[0m disp \u001b[38;5;241m=\u001b[39m ConfusionMatrixDisplay(confusion_matrix\u001b[38;5;241m=\u001b[39mcm)\n\u001b[1;32m      3\u001b[0m disp\u001b[38;5;241m.\u001b[39mplot()\n",
      "File \u001b[0;32m~/.local/lib/python3.8/site-packages/sklearn/metrics/_classification.py:307\u001b[0m, in \u001b[0;36mconfusion_matrix\u001b[0;34m(y_true, y_pred, labels, sample_weight, normalize)\u001b[0m\n\u001b[1;32m    222\u001b[0m \u001b[38;5;28;01mdef\u001b[39;00m \u001b[38;5;21mconfusion_matrix\u001b[39m(\n\u001b[1;32m    223\u001b[0m     y_true, y_pred, \u001b[38;5;241m*\u001b[39m, labels\u001b[38;5;241m=\u001b[39m\u001b[38;5;28;01mNone\u001b[39;00m, sample_weight\u001b[38;5;241m=\u001b[39m\u001b[38;5;28;01mNone\u001b[39;00m, normalize\u001b[38;5;241m=\u001b[39m\u001b[38;5;28;01mNone\u001b[39;00m\n\u001b[1;32m    224\u001b[0m ):\n\u001b[1;32m    225\u001b[0m     \u001b[38;5;124;03m\"\"\"Compute confusion matrix to evaluate the accuracy of a classification.\u001b[39;00m\n\u001b[1;32m    226\u001b[0m \n\u001b[1;32m    227\u001b[0m \u001b[38;5;124;03m    By definition a confusion matrix :math:`C` is such that :math:`C_{i, j}`\u001b[39;00m\n\u001b[0;32m   (...)\u001b[0m\n\u001b[1;32m    305\u001b[0m \u001b[38;5;124;03m    (0, 2, 1, 1)\u001b[39;00m\n\u001b[1;32m    306\u001b[0m \u001b[38;5;124;03m    \"\"\"\u001b[39;00m\n\u001b[0;32m--> 307\u001b[0m     y_type, y_true, y_pred \u001b[38;5;241m=\u001b[39m \u001b[43m_check_targets\u001b[49m\u001b[43m(\u001b[49m\u001b[43my_true\u001b[49m\u001b[43m,\u001b[49m\u001b[43m \u001b[49m\u001b[43my_pred\u001b[49m\u001b[43m)\u001b[49m\n\u001b[1;32m    308\u001b[0m     \u001b[38;5;28;01mif\u001b[39;00m y_type \u001b[38;5;129;01mnot\u001b[39;00m \u001b[38;5;129;01min\u001b[39;00m (\u001b[38;5;124m\"\u001b[39m\u001b[38;5;124mbinary\u001b[39m\u001b[38;5;124m\"\u001b[39m, \u001b[38;5;124m\"\u001b[39m\u001b[38;5;124mmulticlass\u001b[39m\u001b[38;5;124m\"\u001b[39m):\n\u001b[1;32m    309\u001b[0m         \u001b[38;5;28;01mraise\u001b[39;00m \u001b[38;5;167;01mValueError\u001b[39;00m(\u001b[38;5;124m\"\u001b[39m\u001b[38;5;132;01m%s\u001b[39;00m\u001b[38;5;124m is not supported\u001b[39m\u001b[38;5;124m\"\u001b[39m \u001b[38;5;241m%\u001b[39m y_type)\n",
      "File \u001b[0;32m~/.local/lib/python3.8/site-packages/sklearn/metrics/_classification.py:93\u001b[0m, in \u001b[0;36m_check_targets\u001b[0;34m(y_true, y_pred)\u001b[0m\n\u001b[1;32m     90\u001b[0m     y_type \u001b[38;5;241m=\u001b[39m {\u001b[38;5;124m\"\u001b[39m\u001b[38;5;124mmulticlass\u001b[39m\u001b[38;5;124m\"\u001b[39m}\n\u001b[1;32m     92\u001b[0m \u001b[38;5;28;01mif\u001b[39;00m \u001b[38;5;28mlen\u001b[39m(y_type) \u001b[38;5;241m>\u001b[39m \u001b[38;5;241m1\u001b[39m:\n\u001b[0;32m---> 93\u001b[0m     \u001b[38;5;28;01mraise\u001b[39;00m \u001b[38;5;167;01mValueError\u001b[39;00m(\n\u001b[1;32m     94\u001b[0m         \u001b[38;5;124m\"\u001b[39m\u001b[38;5;124mClassification metrics can\u001b[39m\u001b[38;5;124m'\u001b[39m\u001b[38;5;124mt handle a mix of \u001b[39m\u001b[38;5;132;01m{0}\u001b[39;00m\u001b[38;5;124m and \u001b[39m\u001b[38;5;132;01m{1}\u001b[39;00m\u001b[38;5;124m targets\u001b[39m\u001b[38;5;124m\"\u001b[39m\u001b[38;5;241m.\u001b[39mformat(\n\u001b[1;32m     95\u001b[0m             type_true, type_pred\n\u001b[1;32m     96\u001b[0m         )\n\u001b[1;32m     97\u001b[0m     )\n\u001b[1;32m     99\u001b[0m \u001b[38;5;66;03m# We can't have more than one value on y_type => The set is no more needed\u001b[39;00m\n\u001b[1;32m    100\u001b[0m y_type \u001b[38;5;241m=\u001b[39m y_type\u001b[38;5;241m.\u001b[39mpop()\n",
      "\u001b[0;31mValueError\u001b[0m: Classification metrics can't handle a mix of continuous and multiclass targets"
     ]
    }
   ],
   "source": [
    "cm = confusion_matrix(outputs,targets)\n",
    "disp = ConfusionMatrixDisplay(confusion_matrix=cm)\n",
    "disp.plot()"
   ]
  }
 ],
 "metadata": {
  "kernelspec": {
   "display_name": "Python 3 (ipykernel)",
   "language": "python",
   "name": "python3"
  },
  "language_info": {
   "codemirror_mode": {
    "name": "ipython",
    "version": 3
   },
   "file_extension": ".py",
   "mimetype": "text/x-python",
   "name": "python",
   "nbconvert_exporter": "python",
   "pygments_lexer": "ipython3",
   "version": "3.8.10"
  }
 },
 "nbformat": 4,
 "nbformat_minor": 5
}
